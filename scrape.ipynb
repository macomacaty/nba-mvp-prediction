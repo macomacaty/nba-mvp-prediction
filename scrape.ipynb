{
 "cells": [
  {
   "cell_type": "markdown",
   "metadata": {},
   "source": [
    "I will be scraping per game stats and advanced stats from www.basketball-reference.com from seasons 1979/80 until the current one.\n",
    "Then the MVP winners and DPOY winners from Wikipedia."
   ]
  },
  {
   "cell_type": "code",
   "execution_count": null,
   "metadata": {},
   "outputs": [],
   "source": [
    "# importing the necessary libraries\n",
    "import pandas as pd\n",
    "from tqdm import tqdm\n",
    "from urllib.request import urlopen\n",
    "from bs4 import BeautifulSoup"
   ]
  },
  {
   "cell_type": "code",
   "execution_count": null,
   "metadata": {},
   "outputs": [],
   "source": [
    "# URL of stats per game\n",
    "url = \"https://www.basketball-reference.com/leagues/NBA_2022_per_game.html\"\n",
    "\n",
    "# now we create soup object\n",
    "html = urlopen(url)\n",
    "soup = BeautifulSoup(html)\n",
    "\n",
    "# use findALL() to get the column headers\n",
    "soup.findAll('tr', limit=2)\n",
    "\n",
    "# use getText() to extract the text we need into a list\n",
    "headers = [th.getText() for th in soup.findAll('tr', limit=2)[0].findAll('th')]\n",
    "\n",
    "# exclude the first column as we will not need the ranking order from Basketball Reference for the analysis\n",
    "headers = headers[1:]"
   ]
  },
  {
   "cell_type": "code",
   "execution_count": null,
   "metadata": {},
   "outputs": [],
   "source": [
    "# we will scrape stats since 1979/80 season\n",
    "years = [*range(1980,2023)]\n",
    "\n",
    "# create empty df first\n",
    "df_per_game = pd.DataFrame(columns=headers)\n",
    "df_per_game['Year'] = None\n",
    "\n",
    "# now we iterate over the years, get the stats and concatenate to the df\n",
    "for year in tqdm(years):\n",
    "    # URL page we will scraping\n",
    "    url = \"https://www.basketball-reference.com/leagues/NBA_{}_per_game.html\".format(year)\n",
    "\n",
    "    html = urlopen(url)\n",
    "    soup = BeautifulSoup(html)\n",
    "\n",
    "    rows = soup.findAll('tr')[1:]\n",
    "    player_stats = [[td.getText() for td in rows[i].findAll('td')]\n",
    "                for i in range(len(rows))]\n",
    "    \n",
    "    stats = pd.DataFrame(player_stats, columns=headers)\n",
    "    stats['Year'] = year\n",
    "    df_per_game = pd.concat([df_per_game,stats])"
   ]
  },
  {
   "cell_type": "code",
   "execution_count": null,
   "metadata": {},
   "outputs": [],
   "source": [
    "# do the same for advanced stats\n",
    "url_advanced = \"https://www.basketball-reference.com/leagues/NBA_2022_advanced.html\"\n",
    "\n",
    "html = urlopen(url_advanced)\n",
    "soup = BeautifulSoup(html)\n",
    "\n",
    "soup.findAll('tr', limit=2)\n",
    "\n",
    "headers = [th.getText() for th in soup.findAll('tr', limit=2)[0].findAll('th')]\n",
    "headers = headers[1:]"
   ]
  },
  {
   "cell_type": "code",
   "execution_count": null,
   "metadata": {},
   "outputs": [],
   "source": [
    "df_advanced = pd.DataFrame(columns=headers)\n",
    "df_advanced['Year'] = None\n",
    "\n",
    "for year in tqdm(years):\n",
    "    url = \"https://www.basketball-reference.com/leagues/NBA_{}_advanced.html\".format(year)\n",
    "\n",
    "    html = urlopen(url)\n",
    "    soup = BeautifulSoup(html)\n",
    "\n",
    "    rows = soup.findAll('tr')[1:]\n",
    "    player_stats = [[td.getText() for td in rows[i].findAll('td')]\n",
    "                for i in range(len(rows))]\n",
    "    \n",
    "    stats = pd.DataFrame(player_stats, columns=headers)\n",
    "    stats['Year'] = year\n",
    "    df_advanced = pd.concat([df_advanced,stats])\n",
    "\n",
    "df_advanced.columns = ['Player', 'Pos', 'Age', 'Tm', 'G', 'MP', 'PER', 'TS%', '3PAr', 'FTr',\n",
    "       'ORB%', 'DRB%', 'TRB%', 'AST%', 'STL%', 'BLK%', 'TOV%', 'USG%', 'empty1',\n",
    "       'OWS', 'DWS', 'WS', 'WS/48', 'empty2', 'OBPM', 'DBPM', 'BPM', 'VORP',\n",
    "       'Year']\n",
    "\n",
    "# drop unnecessary columns, which we have in the per-game df\n",
    "df_advanced.drop(columns=['Player','Pos','Age','Tm','G','MP','empty1','empty2','Year'], inplace=True)"
   ]
  },
  {
   "cell_type": "code",
   "execution_count": null,
   "metadata": {},
   "outputs": [],
   "source": [
    "# now we join the per-game and advanced stats together\n",
    "df = pd.concat([df_per_game,df_advanced], axis=1)"
   ]
  },
  {
   "cell_type": "code",
   "execution_count": null,
   "metadata": {},
   "outputs": [],
   "source": [
    "# little cleaning of the player name column\n",
    "df.dropna(subset=['Player'], inplace=True)\n",
    "df['Player'] = df['Player'].str.split('*').str[0]"
   ]
  },
  {
   "cell_type": "code",
   "execution_count": null,
   "metadata": {},
   "outputs": [],
   "source": [
    "# let's see what it looks like\n",
    "df.head()"
   ]
  },
  {
   "cell_type": "code",
   "execution_count": null,
   "metadata": {},
   "outputs": [],
   "source": [
    "# now let's fet the mvp winners from wikipedia\n",
    "mvp_winners = pd.read_html('https://en.wikipedia.org/wiki/NBA_Most_Valuable_Player_Award#Winners')[6]\n",
    "\n",
    "# again some data cleaning\n",
    "mvp_winners['Season'] = mvp_winners['Season'].str.split('–').str[0]\n",
    "mvp_winners['Season'] = mvp_winners['Season'].astype(int) + 1\n",
    "mvp_winners['Player'] = mvp_winners['Player'].str.split('*').str[0]\n",
    "mvp_winners['Player'] = mvp_winners['Player'].str.split('^').str[0]\n",
    "\n",
    "# we get the winners from season 1979/80 onwards\n",
    "mvp_winners = mvp_winners[mvp_winners['Season'] > 1979].copy()\n",
    "\n",
    "# assign 1 which we then merge to the stats df\n",
    "mvp_winners['MVP'] = 1\n",
    "mvp_winners.head()"
   ]
  },
  {
   "cell_type": "code",
   "execution_count": null,
   "metadata": {},
   "outputs": [],
   "source": [
    "# now we merge the MVP winners df\n",
    "df = df.merge(mvp_winners[['Player','Season','MVP']], left_on=['Player','Year'], right_on=['Player','Season'], how='left')\n",
    "\n",
    "# data cleaning\n",
    "df.drop(columns='Season', inplace=True)\n",
    "df['MVP'].fillna(0, inplace=True)\n",
    "df['MVP'] = df['MVP'].astype(int)"
   ]
  },
  {
   "cell_type": "code",
   "execution_count": null,
   "metadata": {},
   "outputs": [],
   "source": [
    "# same for dpoy winners\n",
    "dpoy_winners = pd.read_html('https://en.wikipedia.org/wiki/NBA_Defensive_Player_of_the_Year_Award')[6]\n",
    "dpoy_winners['Season'] = dpoy_winners['Season'].str.split('–').str[0]\n",
    "dpoy_winners['Season'] = dpoy_winners['Season'].astype(int) + 1\n",
    "dpoy_winners['Player'] = dpoy_winners['Player'].str.split('*').str[0]\n",
    "dpoy_winners['Player'] = dpoy_winners['Player'].str.split('^').str[0]\n",
    "dpoy_winners['Player'] = dpoy_winners['Player'].str.split('[').str[0]\n",
    "dpoy_winners = dpoy_winners[dpoy_winners['Season'] > 1979].copy()\n",
    "dpoy_winners['DPOY'] = 1\n",
    "dpoy_winners.head()"
   ]
  },
  {
   "cell_type": "code",
   "execution_count": null,
   "metadata": {},
   "outputs": [],
   "source": [
    "# merge the dpoy winners\n",
    "df = df.merge(dpoy_winners[['Player','Season','DPOY']], left_on=['Player','Year'], right_on=['Player','Season'], how='left')\n",
    "df.drop(columns='Season', inplace=True)\n",
    "\n",
    "df['DPOY'].fillna(0, inplace=True)\n",
    "df['DPOY'] = df['DPOY'].astype(int)"
   ]
  },
  {
   "cell_type": "code",
   "execution_count": null,
   "metadata": {},
   "outputs": [],
   "source": [
    "# change the numeric columns to numeric dtypes\n",
    "numeric_columns = ['Age', 'G', 'GS', 'MP', 'FG', 'FGA', 'FG%', '3P',\n",
    "       '3PA', '3P%', '2P', '2PA', '2P%', 'eFG%', 'FT', 'FTA', 'FT%', 'ORB',\n",
    "       'DRB', 'TRB', 'AST', 'STL', 'BLK', 'TOV', 'PF', 'PTS', 'Year', 'PER',\n",
    "       'TS%', '3PAr', 'FTr', 'ORB%', 'DRB%', 'TRB%', 'AST%', 'STL%', 'BLK%',\n",
    "       'TOV%', 'USG%', 'OWS', 'DWS', 'WS', 'WS/48', 'OBPM', 'DBPM', 'BPM',\n",
    "       'VORP', 'MVP', 'DPOY']\n",
    "\n",
    "for column in numeric_columns:\n",
    "    df[column] = pd.to_numeric(df[column])"
   ]
  },
  {
   "cell_type": "code",
   "execution_count": null,
   "metadata": {},
   "outputs": [],
   "source": [
    "# write to csv\n",
    "df.to_csv('data/stats.csv', index=False)"
   ]
  },
  {
   "cell_type": "code",
   "execution_count": null,
   "metadata": {},
   "outputs": [],
   "source": []
  }
 ],
 "metadata": {
  "kernelspec": {
   "display_name": "Python 3.10.6 64-bit ('nba-mvp')",
   "language": "python",
   "name": "python3"
  },
  "language_info": {
   "codemirror_mode": {
    "name": "ipython",
    "version": 3
   },
   "file_extension": ".py",
   "mimetype": "text/x-python",
   "name": "python",
   "nbconvert_exporter": "python",
   "pygments_lexer": "ipython3",
   "version": "3.10.6"
  },
  "orig_nbformat": 4,
  "vscode": {
   "interpreter": {
    "hash": "409ac7c94b0421dd076172d7e57a801b5eb1be12bcf0f63bf6e43bc6c1b12af9"
   }
  }
 },
 "nbformat": 4,
 "nbformat_minor": 2
}
